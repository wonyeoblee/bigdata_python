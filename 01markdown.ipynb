{
 "cells": [
  {
   "cell_type": "markdown",
   "id": "17a0acc5-e06a-4291-968a-772aa68b4709",
   "metadata": {
    "tags": []
   },
   "source": [
    "# 마크다운markdown"
   ]
  },
  {
   "cell_type": "markdown",
   "id": "ca79bb81-bc8f-4e75-b50b-7d7a56c29937",
   "metadata": {},
   "source": [
    "* 주피터 노트북등에 문서 작성시 내용전달시 이해하기 쉽도록 추가적으로 작성하는 꾸밈 문장을 마크다운을 이용해서 작성함\n",
    "* 이러한 종류의 문서는 보통 .md라는 확장자를 가짐\n",
    "* 간단하고 단순한 문법으로 html 기반 문서를 손쉽게 작성하게 해주기 때문에 익혀두면 유용함\n",
    "* 또한 복잡한 수식도 화려하게 작성할 수도 있음"
   ]
  },
  {
   "cell_type": "markdown",
   "id": "ea12ab08-796c-4ca7-b546-3e90a3e4f381",
   "metadata": {
    "tags": []
   },
   "source": [
    "1. 텍스트 기반의 마크업언어로 2004년 존그루버에 의해 만들어졌으며 쉽게 쓰고 읽을 수 있으며 HTML로 변환이 가능 \n",
    "2. 특수기호와 문자를 이용한 매우 간단한 구조의 문법을 사용하여 웹에서도 보다 빠르게 컨텐츠를 작성하고 보다 직관적으로 인식할 수 있음\n",
    "3. 마크다운이 최근 각광받기 시작한 이유는 github 덕분임 \n",
    "4. 깃헙의 저장소Repository에 관한 정보를 기록하는 README.md는 깃헙을 사용하는 사람이라면 누구나 가장 먼저 접하게 되는 마크다운 문서였음\n",
    "5. 이 문서를 통해서 설치방법, 소스코드 설명, 이슈 등을 간단하게 기록하고 가독성을 높일 수 있다는 강점이 부각되면서 점점 여러 곳으로 퍼져가게 되었음"
   ]
  },
  {
   "cell_type": "markdown",
   "id": "b6523bf7-2ea6-4673-adb6-9b5744ee9327",
   "metadata": {},
   "source": [
    "# 마크다운의 장-단점\n",
    "## 장점\n",
    "1. 간결하다.\n",
    "2. 별도의 도구없이 작성가능하다.\n",
    "3. 다양한 형태로 변환이 가능하다.\n",
    "3. 텍스트(Text)로 저장되기 때문에 용량이 적어 보관이 용이하다.\n",
    "4. 텍스트파일이기 때문에 버전관리시스템을 이용하여 변경이력을 관리할 수 있다.\n",
    "5. 지원하는 프로그램과 플랫폼이 다양하다.\n",
    "\n",
    "## 단점\n",
    "1. 표준이 없다.\n",
    "2. 표준이 없기 때문에 도구에 따라서 변환방식이나 생성물이 다르다.\n",
    "3. 모든 HTML 마크업을 대신하지 못한다."
   ]
  },
  {
   "cell_type": "markdown",
   "id": "018141f0-12b7-490f-a14f-aa6f33461339",
   "metadata": {},
   "source": [
    "# 제목작성\n",
    "* 제목을 작성할때는 #을 사용**\n",
    "\n",
    "# 제목 1\n",
    "## 제목 2\n",
    "### 제목 3\n",
    "#### 제목 4\n",
    "##### 제목 5"
   ]
  },
  {
   "cell_type": "markdown",
   "id": "fc8da73a-8e24-42b5-b8d8-7546e469b83c",
   "metadata": {},
   "source": [
    "# 문장꾸미기\n",
    "\n",
    "* 문장꾸미기에는 **, __, ~~ 등이 사용된다\n",
    "* 줄바꿈은 스페이스바 2번 입력\n",
    "* **진하게** 표시하려면 * 사용\n",
    "* __진하게__ 표시하려면 __ 사용\n",
    "* _기울어진 글씨_ 를 표시하려면 _ 사용\n",
    "* ~~취소선~~은 ~로 이용함"
   ]
  },
  {
   "cell_type": "markdown",
   "id": "11d07967-a729-4432-aa5f-e4da81b1420f",
   "metadata": {
    "tags": []
   },
   "source": [
    "# 구분선\n",
    "* 구분선을 그을려면 -를 여러번 작성하면 됨  \n",
    "\n",
    "----"
   ]
  },
  {
   "cell_type": "markdown",
   "id": "9df589fa-b05c-42ef-9111-d2f9ea874264",
   "metadata": {},
   "source": [
    "# 인용구호\n",
    "* 인용구를 입력하려면 > 를 사용함\n",
    "> 시간은 금이라구, 친구!!"
   ]
  },
  {
   "cell_type": "markdown",
   "id": "0da5414f-ae7d-4089-81c5-fe683bd9640a",
   "metadata": {},
   "source": [
    "# 순서있는 목록\n",
    "* 순서있는 목록을 만들려면 항목앞에 숫자를 작성한다\n",
    "\n",
    "## 좋아하는 게임들\n",
    "1. 디아블로 4\n",
    "2. 월드오브워크래프트\n",
    "3. 스타크래프트\n",
    "4. 롤"
   ]
  },
  {
   "cell_type": "markdown",
   "id": "9c3a6444-dd32-415c-9107-e8f3cf4eae0d",
   "metadata": {},
   "source": [
    "# 순서없는 목록\n",
    "* 순서없는 목록을 만들려면 항목앞에 *,+,-를 작성한다\n",
    "* 단, 목록에 들여쓰기를 적용하려면 탭을 사용함\n",
    "\n",
    "## 좋아하는 게임들\n",
    "+ 디아블로 4\n",
    "+ 월드오브워크래프트\n",
    "+ 스타크래프트\n",
    "+ 롤"
   ]
  },
  {
   "cell_type": "markdown",
   "id": "fe042735-08cf-429e-b34e-dbc3975bddea",
   "metadata": {},
   "source": [
    "## 좋아하는 음식\n",
    "* 분식\n",
    "    + 라면\n",
    "    + 김밥\n",
    "    + 떡국\n",
    "* 양식\n",
    "    - 파스타\n",
    "    - 피자\n",
    "    - 샐러드\n",
    "* 한식"
   ]
  },
  {
   "cell_type": "markdown",
   "id": "f0c34e61-16fb-4717-9bd8-8e4600877e88",
   "metadata": {},
   "source": [
    "# 링크\n",
    "+ `[링크텍스트](링크URL)`로 링크를 생성할 수 있음\n",
    "+ [네이버](http://naver.com)\n",
    "+ [구글](http://google.com)"
   ]
  },
  {
   "cell_type": "markdown",
   "id": "86d056f6-dc4d-457c-a957-c6de34356287",
   "metadata": {},
   "source": [
    "# 이미지\n",
    "* `![그림설명](그림주소)`로 그림을 나타낼 수 있음\n",
    "* 간단하게 img태그를 사용해서 이미지를 나타낼수도 있음(크기변경 가능)"
   ]
  },
  {
   "cell_type": "markdown",
   "id": "04c8967e-b087-4a18-9641-9a26cf831c7a",
   "metadata": {},
   "source": [
    "![챔스](img1.jpg)"
   ]
  },
  {
   "cell_type": "markdown",
   "id": "4c9aadc2-2230-4004-9083-09d49d7dc508",
   "metadata": {},
   "source": [
    "<img alt='수지뽀뽀' src='https://file.thisisgame.com/upload/tboard/user/2013/01/25/20130125181216_6417.jpg' width='200px' height='200px' />"
   ]
  },
  {
   "cell_type": "markdown",
   "id": "1d0bb7b1-eb43-4734-aff2-400eae104abe",
   "metadata": {},
   "source": [
    "# 테이블\n",
    "* 데이터와 |, -- 문자를 이용함\n",
    "* 정렬을 하려면 : 을 이용함"
   ]
  },
  {
   "cell_type": "markdown",
   "id": "a83a3053-b402-4582-b5bb-20035e9ef961",
   "metadata": {},
   "source": [
    "|이름|국어|영어|수학|\n",
    "|---|---|---|---|\n",
    "|수지|99|98|99|\n",
    "|지현|55|66|77|"
   ]
  },
  {
   "cell_type": "markdown",
   "id": "7785f9d7-3a00-4205-82f0-02564cacc1c0",
   "metadata": {},
   "source": [
    "# 수식\n",
    "+ 수학식은 $기호를 이용해서 표현 가능\n",
    "+ 수학식은 LateX 문법을 따름"
   ]
  },
  {
   "cell_type": "markdown",
   "id": "d13ff919-5565-4bd2-8c10-0afe33ff2240",
   "metadata": {},
   "source": [
    "* $ a = b + c $  \n",
    "* $ a^2 = b^2 + c^2 $"
   ]
  },
  {
   "cell_type": "markdown",
   "id": "e2a7873a-e579-473a-aac1-c60cfb6d98ab",
   "metadata": {},
   "source": [
    "* $ ax^2 + bx + c = 0 $  \n",
    "* $$ x = {-b \\pm \\sqrt{b^2 - 4ac} \\over 2a} $$ "
   ]
  },
  {
   "cell_type": "markdown",
   "id": "7e4acda9-d004-49f3-b8e3-0852c80b6c93",
   "metadata": {
    "tags": []
   },
   "source": [
    "# 코드블럭\n",
    "* ` ``` 프로그래밍 코드``` ` 형태로 작성함\n",
    "* 마크다운을 실행하는 프로그램이나 플랫폼에 따라 코드컬러링이 지원되기도 함"
   ]
  },
  {
   "cell_type": "markdown",
   "id": "ef6cfb2e-d030-4780-8aec-7ed94a9a9091",
   "metadata": {},
   "source": [
    "```\n",
    "public static void main(String[] args){\n",
    "    System.out.print(\"Hello, World!!\");\n",
    "}\n",
    "```"
   ]
  },
  {
   "cell_type": "markdown",
   "id": "09417ce8-24b7-4351-b4c5-24bbef5de8ed",
   "metadata": {},
   "source": []
  },
  {
   "cell_type": "markdown",
   "id": "89c18eca-7c47-4e33-9a45-a741c83f837b",
   "metadata": {},
   "source": []
  },
  {
   "cell_type": "markdown",
   "id": "abecef50-684d-455d-89d4-49d73b828d02",
   "metadata": {},
   "source": []
  },
  {
   "cell_type": "markdown",
   "id": "6ba50892-d09f-4fd1-98d0-12d8177b7dff",
   "metadata": {},
   "source": []
  },
  {
   "cell_type": "markdown",
   "id": "8a4dfc14-eb45-4a8e-b386-8b8c8287e99a",
   "metadata": {},
   "source": []
  }
 ],
 "metadata": {
  "kernelspec": {
   "display_name": "Python 3",
   "language": "python",
   "name": "python3"
  },
  "language_info": {
   "codemirror_mode": {
    "name": "ipython",
    "version": 3
   },
   "file_extension": ".py",
   "mimetype": "text/x-python",
   "name": "python",
   "nbconvert_exporter": "python",
   "pygments_lexer": "ipython3",
   "version": "3.8.12"
  }
 },
 "nbformat": 4,
 "nbformat_minor": 5
}
